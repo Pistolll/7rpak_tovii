{
  "cells": [
    {
      "cell_type": "markdown",
      "metadata": {
        "id": "view-in-github",
        "colab_type": "text"
      },
      "source": [
        "<a href=\"https://colab.research.google.com/github/Pistolll/7rpak_tovii/blob/main/7prak%20TOVIII.ipynb\" target=\"_parent\"><img src=\"https://colab.research.google.com/assets/colab-badge.svg\" alt=\"Open In Colab\"/></a>"
      ]
    },
    {
      "cell_type": "markdown",
      "metadata": {
        "id": "xmjfnOXwLX8k"
      },
      "source": [
        "# ART for TensorFlow v2 - Keras API"
      ]
    },
    {
      "cell_type": "code",
      "source": [],
      "metadata": {
        "id": "2eeuqfohaDKY"
      },
      "execution_count": null,
      "outputs": []
    },
    {
      "cell_type": "markdown",
      "source": [
        "Этот код демонстрирует атаки и защиту нейросетей от adversarial-примеров (враждебных примеров) с помощью библиотеки ART (Adversarial Robustness Toolbox).\n",
        "На примере MNIST и модели на TensorFlow/Keras"
      ],
      "metadata": {
        "id": "hCsd1aBeTY4w"
      }
    },
    {
      "cell_type": "markdown",
      "source": [
        "FGSM (Fast Gradient Sign Method) — это один из простейших и популярных методов создания adversarial-примеров (враждебных примеров).\n",
        "Идея в том, чтобы немного искажать входные данные, добавляя шум в направлении градиента ошибки модели, чтобы заставить модель ошибиться.\n",
        "\n",
        "FGSM вычисляет градиент функции потерь модели по входу.\n",
        "\n",
        "Затем изменяет исходное изображение в сторону, которая максимально увеличивает ошибку (с шагом, контролируемым параметром eps).\n",
        "\n",
        "Итог — небольшое изменение, почти незаметное глазу, но способное «обмануть» модел"
      ],
      "metadata": {
        "id": "mxoeBBWqZ9zY"
      }
    },
    {
      "cell_type": "code",
      "source": [
        "!pip install -U numpy==1.23.5 scikit-learn==1.1.3 tensorflow==2.12.0 adversarial-robustness-toolbox==1.14.0"
      ],
      "metadata": {
        "colab": {
          "base_uri": "https://localhost:8080/"
        },
        "id": "ZiVuS02JLiLC",
        "outputId": "1e459c3b-b0d0-4ee9-e0c4-43f8690a03c3"
      },
      "execution_count": 1,
      "outputs": [
        {
          "output_type": "stream",
          "name": "stdout",
          "text": [
            "Requirement already satisfied: numpy==1.23.5 in /usr/local/lib/python3.11/dist-packages (1.23.5)\n",
            "Requirement already satisfied: scikit-learn==1.1.3 in /usr/local/lib/python3.11/dist-packages (1.1.3)\n",
            "Requirement already satisfied: tensorflow==2.12.0 in /usr/local/lib/python3.11/dist-packages (2.12.0)\n",
            "Requirement already satisfied: adversarial-robustness-toolbox==1.14.0 in /usr/local/lib/python3.11/dist-packages (1.14.0)\n",
            "Requirement already satisfied: scipy>=1.3.2 in /usr/local/lib/python3.11/dist-packages (from scikit-learn==1.1.3) (1.15.3)\n",
            "Requirement already satisfied: joblib>=1.0.0 in /usr/local/lib/python3.11/dist-packages (from scikit-learn==1.1.3) (1.5.0)\n",
            "Requirement already satisfied: threadpoolctl>=2.0.0 in /usr/local/lib/python3.11/dist-packages (from scikit-learn==1.1.3) (3.6.0)\n",
            "Requirement already satisfied: absl-py>=1.0.0 in /usr/local/lib/python3.11/dist-packages (from tensorflow==2.12.0) (1.4.0)\n",
            "Requirement already satisfied: astunparse>=1.6.0 in /usr/local/lib/python3.11/dist-packages (from tensorflow==2.12.0) (1.6.3)\n",
            "Requirement already satisfied: flatbuffers>=2.0 in /usr/local/lib/python3.11/dist-packages (from tensorflow==2.12.0) (25.2.10)\n",
            "Requirement already satisfied: gast<=0.4.0,>=0.2.1 in /usr/local/lib/python3.11/dist-packages (from tensorflow==2.12.0) (0.4.0)\n",
            "Requirement already satisfied: google-pasta>=0.1.1 in /usr/local/lib/python3.11/dist-packages (from tensorflow==2.12.0) (0.2.0)\n",
            "Requirement already satisfied: grpcio<2.0,>=1.24.3 in /usr/local/lib/python3.11/dist-packages (from tensorflow==2.12.0) (1.71.0)\n",
            "Requirement already satisfied: h5py>=2.9.0 in /usr/local/lib/python3.11/dist-packages (from tensorflow==2.12.0) (3.13.0)\n",
            "Requirement already satisfied: jax>=0.3.15 in /usr/local/lib/python3.11/dist-packages (from tensorflow==2.12.0) (0.4.30)\n",
            "Requirement already satisfied: keras<2.13,>=2.12.0 in /usr/local/lib/python3.11/dist-packages (from tensorflow==2.12.0) (2.12.0)\n",
            "Requirement already satisfied: libclang>=13.0.0 in /usr/local/lib/python3.11/dist-packages (from tensorflow==2.12.0) (18.1.1)\n",
            "Requirement already satisfied: opt-einsum>=2.3.2 in /usr/local/lib/python3.11/dist-packages (from tensorflow==2.12.0) (3.4.0)\n",
            "Requirement already satisfied: packaging in /usr/local/lib/python3.11/dist-packages (from tensorflow==2.12.0) (24.2)\n",
            "Requirement already satisfied: protobuf!=4.21.0,!=4.21.1,!=4.21.2,!=4.21.3,!=4.21.4,!=4.21.5,<5.0.0dev,>=3.20.3 in /usr/local/lib/python3.11/dist-packages (from tensorflow==2.12.0) (4.25.7)\n",
            "Requirement already satisfied: setuptools in /usr/local/lib/python3.11/dist-packages (from tensorflow==2.12.0) (75.2.0)\n",
            "Requirement already satisfied: six>=1.12.0 in /usr/local/lib/python3.11/dist-packages (from tensorflow==2.12.0) (1.17.0)\n",
            "Requirement already satisfied: tensorboard<2.13,>=2.12 in /usr/local/lib/python3.11/dist-packages (from tensorflow==2.12.0) (2.12.3)\n",
            "Requirement already satisfied: tensorflow-estimator<2.13,>=2.12.0 in /usr/local/lib/python3.11/dist-packages (from tensorflow==2.12.0) (2.12.0)\n",
            "Requirement already satisfied: termcolor>=1.1.0 in /usr/local/lib/python3.11/dist-packages (from tensorflow==2.12.0) (3.1.0)\n",
            "Requirement already satisfied: typing-extensions>=3.6.6 in /usr/local/lib/python3.11/dist-packages (from tensorflow==2.12.0) (4.13.2)\n",
            "Requirement already satisfied: wrapt<1.15,>=1.11.0 in /usr/local/lib/python3.11/dist-packages (from tensorflow==2.12.0) (1.14.1)\n",
            "Requirement already satisfied: tensorflow-io-gcs-filesystem>=0.23.1 in /usr/local/lib/python3.11/dist-packages (from tensorflow==2.12.0) (0.37.1)\n",
            "Requirement already satisfied: tqdm in /usr/local/lib/python3.11/dist-packages (from adversarial-robustness-toolbox==1.14.0) (4.67.1)\n",
            "Requirement already satisfied: wheel<1.0,>=0.23.0 in /usr/local/lib/python3.11/dist-packages (from astunparse>=1.6.0->tensorflow==2.12.0) (0.45.1)\n",
            "Requirement already satisfied: jaxlib<=0.4.30,>=0.4.27 in /usr/local/lib/python3.11/dist-packages (from jax>=0.3.15->tensorflow==2.12.0) (0.4.30)\n",
            "Requirement already satisfied: ml-dtypes>=0.2.0 in /usr/local/lib/python3.11/dist-packages (from jax>=0.3.15->tensorflow==2.12.0) (0.4.1)\n",
            "Requirement already satisfied: google-auth<3,>=1.6.3 in /usr/local/lib/python3.11/dist-packages (from tensorboard<2.13,>=2.12->tensorflow==2.12.0) (2.38.0)\n",
            "Requirement already satisfied: google-auth-oauthlib<1.1,>=0.5 in /usr/local/lib/python3.11/dist-packages (from tensorboard<2.13,>=2.12->tensorflow==2.12.0) (1.0.0)\n",
            "Requirement already satisfied: markdown>=2.6.8 in /usr/local/lib/python3.11/dist-packages (from tensorboard<2.13,>=2.12->tensorflow==2.12.0) (3.8)\n",
            "Requirement already satisfied: requests<3,>=2.21.0 in /usr/local/lib/python3.11/dist-packages (from tensorboard<2.13,>=2.12->tensorflow==2.12.0) (2.32.3)\n",
            "Requirement already satisfied: tensorboard-data-server<0.8.0,>=0.7.0 in /usr/local/lib/python3.11/dist-packages (from tensorboard<2.13,>=2.12->tensorflow==2.12.0) (0.7.2)\n",
            "Requirement already satisfied: werkzeug>=1.0.1 in /usr/local/lib/python3.11/dist-packages (from tensorboard<2.13,>=2.12->tensorflow==2.12.0) (3.1.3)\n",
            "Requirement already satisfied: cachetools<6.0,>=2.0.0 in /usr/local/lib/python3.11/dist-packages (from google-auth<3,>=1.6.3->tensorboard<2.13,>=2.12->tensorflow==2.12.0) (5.5.2)\n",
            "Requirement already satisfied: pyasn1-modules>=0.2.1 in /usr/local/lib/python3.11/dist-packages (from google-auth<3,>=1.6.3->tensorboard<2.13,>=2.12->tensorflow==2.12.0) (0.4.2)\n",
            "Requirement already satisfied: rsa<5,>=3.1.4 in /usr/local/lib/python3.11/dist-packages (from google-auth<3,>=1.6.3->tensorboard<2.13,>=2.12->tensorflow==2.12.0) (4.9.1)\n",
            "Requirement already satisfied: requests-oauthlib>=0.7.0 in /usr/local/lib/python3.11/dist-packages (from google-auth-oauthlib<1.1,>=0.5->tensorboard<2.13,>=2.12->tensorflow==2.12.0) (2.0.0)\n",
            "Requirement already satisfied: charset-normalizer<4,>=2 in /usr/local/lib/python3.11/dist-packages (from requests<3,>=2.21.0->tensorboard<2.13,>=2.12->tensorflow==2.12.0) (3.4.2)\n",
            "Requirement already satisfied: idna<4,>=2.5 in /usr/local/lib/python3.11/dist-packages (from requests<3,>=2.21.0->tensorboard<2.13,>=2.12->tensorflow==2.12.0) (3.10)\n",
            "Requirement already satisfied: urllib3<3,>=1.21.1 in /usr/local/lib/python3.11/dist-packages (from requests<3,>=2.21.0->tensorboard<2.13,>=2.12->tensorflow==2.12.0) (2.4.0)\n",
            "Requirement already satisfied: certifi>=2017.4.17 in /usr/local/lib/python3.11/dist-packages (from requests<3,>=2.21.0->tensorboard<2.13,>=2.12->tensorflow==2.12.0) (2025.4.26)\n",
            "Requirement already satisfied: MarkupSafe>=2.1.1 in /usr/local/lib/python3.11/dist-packages (from werkzeug>=1.0.1->tensorboard<2.13,>=2.12->tensorflow==2.12.0) (3.0.2)\n",
            "Requirement already satisfied: pyasn1<0.7.0,>=0.6.1 in /usr/local/lib/python3.11/dist-packages (from pyasn1-modules>=0.2.1->google-auth<3,>=1.6.3->tensorboard<2.13,>=2.12->tensorflow==2.12.0) (0.6.1)\n",
            "Requirement already satisfied: oauthlib>=3.0.0 in /usr/local/lib/python3.11/dist-packages (from requests-oauthlib>=0.7.0->google-auth-oauthlib<1.1,>=0.5->tensorboard<2.13,>=2.12->tensorflow==2.12.0) (3.2.2)\n"
          ]
        }
      ]
    },
    {
      "cell_type": "code",
      "execution_count": 2,
      "metadata": {
        "id": "pxScsRRnLX8l",
        "colab": {
          "base_uri": "https://localhost:8080/"
        },
        "outputId": "1eab7463-a8a2-4103-e335-d3b7d78c6f78"
      },
      "outputs": [
        {
          "output_type": "stream",
          "name": "stdout",
          "text": [
            "Downloading data from https://storage.googleapis.com/tensorflow/tf-keras-datasets/mnist.npz\n",
            "11490434/11490434 [==============================] - 0s 0us/step\n"
          ]
        }
      ],
      "source": [
        "import warnings\n",
        "warnings.filterwarnings('ignore')\n",
        "\n",
        "import tensorflow as tf\n",
        "tf.compat.v1.disable_eager_execution()\n",
        "\n",
        "import numpy as np\n",
        "from matplotlib import pyplot as plt\n",
        "\n",
        "from art.estimators.classification import KerasClassifier\n",
        "from art.attacks.evasion import FastGradientMethod\n",
        "from art.defences.trainer import AdversarialTrainer\n",
        "\n",
        "# Проверка версии\n",
        "if tf.__version__[0] != '2':\n",
        "    raise ImportError('This notebook requires TensorFlow v2.')\n",
        "\n",
        "# Загрузка MNIST\n",
        "(x_train, y_train), (x_test, y_test) = tf.keras.datasets.mnist.load_data()\n",
        "x_train, x_test = x_train / 255.0, x_test / 255.0\n",
        "\n",
        "# Для ускорения теста\n",
        "x_test = x_test[:100]\n",
        "y_test = y_test[:100]\n"
      ]
    },
    {
      "cell_type": "markdown",
      "source": [
        "Создаём обычную простую полносвязную нейросеть, обучаем её на MNIST и получаем хорошее качество на обычных данных. Эта модель потом будет использоваться как \"базовая\" — чтобы сравнить с защищённой."
      ],
      "metadata": {
        "id": "iuuT3jkoU4gQ"
      }
    },
    {
      "cell_type": "code",
      "execution_count": 3,
      "metadata": {
        "id": "nwuw2h4OLX8m",
        "colab": {
          "base_uri": "https://localhost:8080/"
        },
        "outputId": "42182097-8d82-4562-c43b-d84bcc6e9d39"
      },
      "outputs": [
        {
          "output_type": "stream",
          "name": "stdout",
          "text": [
            "Train on 60000 samples\n",
            "Epoch 1/3\n",
            "60000/60000 [==============================] - 9s 157us/sample - loss: 0.2946 - accuracy: 0.9151\n",
            "Epoch 2/3\n",
            "60000/60000 [==============================] - 9s 154us/sample - loss: 0.1429 - accuracy: 0.9576\n",
            "Epoch 3/3\n",
            "60000/60000 [==============================] - 8s 137us/sample - loss: 0.1082 - accuracy: 0.9662\n"
          ]
        },
        {
          "output_type": "execute_result",
          "data": {
            "text/plain": [
              "<keras.callbacks.History at 0x7fe32881ba10>"
            ]
          },
          "metadata": {},
          "execution_count": 3
        }
      ],
      "source": [
        "# Создаём модель нейронной сети (базовую, без защиты)\n",
        "model = tf.keras.models.Sequential([\n",
        "\n",
        "    # Входной слой: принимает изображения 28x28 пикселей\n",
        "    tf.keras.layers.InputLayer(input_shape=(28, 28)),\n",
        "\n",
        "    # \"Разворачивает\" изображение в вектор из 784 элементов (28*28)\n",
        "    tf.keras.layers.Flatten(),\n",
        "\n",
        "    # Полносвязный слой на 128 нейронов с функцией активации ReLU\n",
        "    tf.keras.layers.Dense(128, activation='relu'),\n",
        "\n",
        "    # Dropout-слой отключает случайно 20% нейронов во время обучения (для борьбы с переобучением)\n",
        "    tf.keras.layers.Dropout(0.2),\n",
        "\n",
        "    # Выходной слой на 10 нейронов (по числу классов — цифры от 0 до 9), softmax — для получения вероятностей\n",
        "    tf.keras.layers.Dense(10, activation='softmax')\n",
        "])\n",
        "\n",
        "# Компилируем модель:\n",
        "# - оптимизатор Adam\n",
        "# - функция потерь: sparse_categorical_crossentropy (используется, когда метки классов — это числа, а не one-hot векторы)\n",
        "# - метрика оценки — точность (accuracy)\n",
        "model.compile(optimizer='adam',\n",
        "              loss='sparse_categorical_crossentropy',\n",
        "              metrics=['accuracy'])\n",
        "\n",
        "# Обучаем модель на тренировочных данных x_train и y_train, в течение 3 эпох\n",
        "model.fit(x_train, y_train, epochs=3)\n"
      ]
    },
    {
      "cell_type": "code",
      "execution_count": 4,
      "metadata": {
        "id": "RjRliQNMLX8n",
        "colab": {
          "base_uri": "https://localhost:8080/"
        },
        "outputId": "9dd29f0a-b7d8-4065-b456-9bc05062ebfe"
      },
      "outputs": [
        {
          "output_type": "stream",
          "name": "stdout",
          "text": [
            "Accuracy on clean test data: 100.00%\n"
          ]
        }
      ],
      "source": [
        "# Оцениваем точность базовой модели на \"чистых\" (не атакованных) тестовых данных\n",
        "loss_test, accuracy_test = model.evaluate(x_test, y_test)\n",
        "\n",
        "# Выводим точность в процентах с двумя знаками после запятой\n",
        "print('Accuracy on clean test data: {:4.2f}%'.format(accuracy_test * 100))\n"
      ]
    },
    {
      "cell_type": "code",
      "execution_count": 5,
      "metadata": {
        "id": "c2t3ZoG6LX8o",
        "colab": {
          "base_uri": "https://localhost:8080/"
        },
        "outputId": "18e3a233-ae8a-4a16-dd65-b253859b8a80"
      },
      "outputs": [
        {
          "output_type": "stream",
          "name": "stdout",
          "text": [
            "Accuracy on adversarial test data: 0.00%\n",
            "Average perturbation: 0.18\n"
          ]
        }
      ],
      "source": [
        "# Оборачиваем обученную модель в ART-классификатор (необходим для работы с библиотекой adversarial-атак)\n",
        "classifier = KerasClassifier(model=model, clip_values=(0, 1))\n",
        "\n",
        "# Создаём атаку FGSM (Fast Gradient Sign Method) с параметром eps=0.3 (сила искажения)\n",
        "attack_fgsm = FastGradientMethod(estimator=classifier, eps=0.3)\n",
        "\n",
        "# Генерируем атакованные (adversarial) примеры из исходных тестовых данных\n",
        "x_test_adv = attack_fgsm.generate(x_test)\n",
        "\n",
        "# Оцениваем модель на атакованных данных\n",
        "loss_test_adv, accuracy_test_adv = model.evaluate(x_test_adv, y_test)\n",
        "\n",
        "# Вычисляем среднее искажение — насколько сильно атакованные изображения отличаются от оригинальных\n",
        "perturbation = np.mean(np.abs((x_test_adv - x_test)))\n",
        "\n",
        "# Выводим точность модели на атакованных данных и среднее искажение\n",
        "print('Accuracy on adversarial test data: {:4.2f}%'.format(accuracy_test_adv * 100))\n",
        "print('Average perturbation: {:4.2f}'.format(perturbation))\n"
      ]
    },
    {
      "cell_type": "markdown",
      "source": [
        "Accuracy = 0.00% — модель полностью провалила классификацию на атакованных изображениях.\n",
        "\n",
        "Это значит, что все 100 из 100 изображений она распознала неправильно, хотя до этого на чистых данных точность была ≈100%.\n",
        "\n",
        "Average perturbation = 0.18 — средняя разница между исходными и атакованными изображениями составляет 18% от полного диапазона значений пикселей (0–1).\n",
        "То есть визуально изменения незаметны, но для модели они критичны."
      ],
      "metadata": {
        "id": "mPbgPpzyVOLo"
      }
    },
    {
      "cell_type": "code",
      "execution_count": 6,
      "metadata": {
        "id": "ZrKFReoFLX8p",
        "colab": {
          "base_uri": "https://localhost:8080/",
          "height": 560
        },
        "outputId": "cedbb36f-07f7-4169-8d89-f6f6604fdf9b"
      },
      "outputs": [
        {
          "output_type": "display_data",
          "data": {
            "text/plain": [
              "<Figure size 1200x600 with 10 Axes>"
            ],
            "image/png": "[encoded data removed]"
          },
          "metadata": {}
        }
      ],
      "source": [
        "# Создаём словарь, в который запишем по одной атакованной картинке на каждую цифру (0–9)\n",
        "unique_digits = {}\n",
        "for i in range(len(x_test)):\n",
        "    label = y_test[i]  # Истинная метка (цифра)\n",
        "    if label not in unique_digits:\n",
        "        # Если для этой цифры ещё нет картинки — добавляем первую попавшуюся атакованную\n",
        "        unique_digits[label] = x_test_adv[i]\n",
        "    if len(unique_digits) == 10:\n",
        "        break  # Прекращаем цикл, как только собраны все 10 цифр\n",
        "\n",
        "# Отображаем 10 атакованных изображений (по одной для каждой цифры от 0 до 9)\n",
        "plt.figure(figsize=(12, 6))\n",
        "for i, digit in enumerate(sorted(unique_digits)):\n",
        "    plt.subplot(2, 5, i + 1)\n",
        "    plt.imshow(unique_digits[digit], cmap='gray')  # Серый цвет, как для рукописных цифр\n",
        "    plt.title(f\"Adv. digit: {digit}\")  # Подпись – какая цифра это должна быть\n",
        "    plt.axis('off')\n",
        "plt.tight_layout()\n",
        "plt.show()\n",
        "\n"
      ]
    },
    {
      "cell_type": "markdown",
      "source": [
        "Мы видим здеся по одной атакованной картинке для каждой цифры от 0 до 9.\n",
        "\n",
        "Эти изображения получены после применения FGSM-атаки (с искажением eps=0.3) на x_test.\n",
        "\n",
        "Важно: подписи (Adv. digit: X) — это настоящие метки, т.е. что было на самом деле до атаки.\n",
        "Но модель на них ошибается, точность у неё была 0%."
      ],
      "metadata": {
        "id": "ngbAR_8UVsyQ"
      }
    },
    {
      "cell_type": "code",
      "execution_count": 7,
      "metadata": {
        "id": "0gSacCjoLX8q",
        "colab": {
          "base_uri": "https://localhost:8080/",
          "height": 81,
          "referenced_widgets": [
            "4c5f1c16c54a42aa8bd81cd0a5ed8dd6",
            "18c24bcd8cde47b896ca6992edd3a817",
            "555d4be23f6547c8901aed00fa6d997b",
            "b69f51844a2b4a0baaf42507b3e331e5",
            "54390b6b9e83472daf3b2ffb94fe8dec",
            "5cfa3ff6ef144b8bb622a5357d38504e",
            "74060d510b1d4e058b17f4dfdd775992",
            "0ea04e772b6841909c1b5a5b5148e70f",
            "4843fc0d076a422e9796967785c4a05c",
            "f9c03bb66ead431194d42c98fbd3f39e",
            "c8b3a9548d084b4080ab7259eea675d9",
            "4ab99913505f4d5abc76d327d7a057e8",
            "fcd5414b74da4f82b26fa99c47fd9b9b",
            "ca852e06087e43eb9abd0398547dbcdb",
            "fd59e5cf770f4c7e8ed6a9f8309b261a",
            "8840b896f5544e06a4b13a5e94787c88",
            "91ce8f4a5cc54209b6f76ae785b2c67b",
            "a38b324135aa49f5a896fdd0e15f9a62",
            "3afe51c6317c471b82fd3ba423d3e0d7",
            "087c9ca7515a4df197d12bd25016bb56",
            "75c7608b9e744ed2b8af6421cefa2c96",
            "ad563c93bdc8498380670598c8168176"
          ]
        },
        "outputId": "d1c4ebc3-2db0-425a-fa1a-8f36c20bd68a"
      },
      "outputs": [
        {
          "output_type": "display_data",
          "data": {
            "text/plain": [
              "Precompute adv samples:   0%|          | 0/1 [00:00<?, ?it/s]"
            ],
            "application/vnd.jupyter.widget-view+json": {
              "version_major": 2,
              "version_minor": 0,
              "model_id": "4c5f1c16c54a42aa8bd81cd0a5ed8dd6"
            }
          },
          "metadata": {}
        },
        {
          "output_type": "display_data",
          "data": {
            "text/plain": [
              "Adversarial training epochs:   0%|          | 0/3 [00:00<?, ?it/s]"
            ],
            "application/vnd.jupyter.widget-view+json": {
              "version_major": 2,
              "version_minor": 0,
              "model_id": "4ab99913505f4d5abc76d327d7a057e8"
            }
          },
          "metadata": {}
        }
      ],
      "source": [
        "model_defended = tf.keras.models.Sequential([\n",
        "    tf.keras.layers.InputLayer(input_shape=(28, 28)),\n",
        "    tf.keras.layers.Flatten(),\n",
        "    tf.keras.layers.Dense(128, activation='relu'),\n",
        "    tf.keras.layers.Dropout(0.2),\n",
        "    tf.keras.layers.Dense(10, activation='softmax')\n",
        "])\n",
        "\n",
        "# Компилируем модель: оптимизатор Adam, функция потерь - кросс-энтропия, метрика - точность\n",
        "model_defended.compile(optimizer='adam',\n",
        "                       loss='sparse_categorical_crossentropy',\n",
        "                       metrics=['accuracy'])\n",
        "\n",
        "# Оборачиваем модель в классификатор ART — для использования adversarial training и атак\n",
        "classifier_defended = KerasClassifier(model=model_defended, clip_values=(0, 1))\n",
        "\n",
        "# Создаём FGSM-атаку, которую будем использовать во время adversarial training\n",
        "attack_for_training = FastGradientMethod(estimator=classifier_defended, eps=0.3)\n",
        "\n",
        "# Создаём объект AdversarialTrainer с долей adversarial-примеров 50% (ratio=0.5)\n",
        "trainer = AdversarialTrainer(classifier=classifier_defended,\n",
        "                             attacks=attack_for_training,\n",
        "                             ratio=0.5)\n",
        "\n",
        "# Запускаем обучение защищённой модели с adversarial training\n",
        "trainer.fit(x_train, y_train, nb_epochs=3, batch_size=64)\n"
      ]
    },
    {
      "cell_type": "markdown",
      "source": [
        "Модель обучена с учетом атак — теперь должна лучше справляться с adversarial примерами."
      ],
      "metadata": {
        "id": "t2rU2oZRZwp4"
      }
    },
    {
      "cell_type": "code",
      "source": [
        "# Генерация новой атаки на защищённую модель\n",
        "attack_fgsm_def = FastGradientMethod(estimator=classifier_defended, eps=0.3)\n",
        "x_test_adv_def = attack_fgsm_def.generate(x_test)\n",
        "\n",
        "# Оценка защищённой модели\n",
        "loss_clean, acc_clean_def = model_defended.evaluate(x_test, y_test, verbose=0)\n",
        "loss_adv, acc_adv_def = model_defended.evaluate(x_test_adv_def, y_test, verbose=0)\n",
        "\n",
        "print(f\"\\n[Защита] Точность на обычных данных: {acc_clean_def * 100:.2f}%\")\n",
        "print(f\"[Защита] Точность на атакованных данных: {acc_adv_def * 100:.2f}%\")\n"
      ],
      "metadata": {
        "id": "iYnIXNh6PGP6",
        "colab": {
          "base_uri": "https://localhost:8080/"
        },
        "outputId": "494818e2-400b-4efd-ebcb-c3bdf7d643de"
      },
      "execution_count": 8,
      "outputs": [
        {
          "output_type": "stream",
          "name": "stdout",
          "text": [
            "\n",
            "[Защита] Точность на обычных данных: 99.00%\n",
            "[Защита] Точность на атакованных данных: 59.00%\n"
          ]
        }
      ]
    },
    {
      "cell_type": "markdown",
      "source": [
        "Модель model_defended отлично распознаёт обычные (неатакованные) изображения.\n",
        "\n",
        "Модель model_defended устояла против FGSM-атаки на 59% изображений."
      ],
      "metadata": {
        "id": "yHwDyi7rUFfw"
      }
    },
    {
      "cell_type": "code",
      "source": [
        "print(\"\\n=== Сравнение точностей ===\")\n",
        "print(f\"Без защиты — чистые данные:        {accuracy_test * 100:.2f}%\")\n",
        "print(f\"Без защиты — атакованные данные:   {accuracy_test_adv * 100:.2f}%\")\n",
        "print(f\"С защитой  — чистые данные:        {acc_clean_def * 100:.2f}%\")\n",
        "print(f\"С защитой  — атакованные данные:   {acc_adv_def * 100:.2f}%\")\n"
      ],
      "metadata": {
        "colab": {
          "base_uri": "https://localhost:8080/"
        },
        "id": "YzZ7WIbeS_kR",
        "outputId": "76988922-c325-4465-b823-8ff029d56f47"
      },
      "execution_count": 9,
      "outputs": [
        {
          "output_type": "stream",
          "name": "stdout",
          "text": [
            "\n",
            "=== Сравнение точностей ===\n",
            "Без защиты — чистые данные:        100.00%\n",
            "Без защиты — атакованные данные:   0.00%\n",
            "С защитой  — чистые данные:        99.00%\n",
            "С защитой  — атакованные данные:   59.00%\n"
          ]
        }
      ]
    },
    {
      "cell_type": "code",
      "source": [
        "# Словарь для отображения уникальных цифр после атаки на защищённую модель\n",
        "unique_digits_def = {}\n",
        "for i in range(len(x_test)):\n",
        "    label = y_test[i]\n",
        "    if label not in unique_digits_def:\n",
        "        unique_digits_def[label] = x_test_adv_def[i]\n",
        "    if len(unique_digits_def) == 10:\n",
        "        break\n",
        "\n",
        "# Отображение\n",
        "plt.figure(figsize=(12, 6))\n",
        "for i, digit in enumerate(sorted(unique_digits_def)):\n",
        "    plt.subplot(2, 5, i + 1)\n",
        "    plt.imshow(unique_digits_def[digit], cmap='gray')\n",
        "    plt.title(f\"Adv. DEF: {digit}\")\n",
        "    plt.axis('off')\n",
        "plt.tight_layout()\n",
        "plt.show()\n"
      ],
      "metadata": {
        "colab": {
          "base_uri": "https://localhost:8080/",
          "height": 560
        },
        "id": "NbZclkRgTDFB",
        "outputId": "c034aa5f-8fff-4f89-c45c-1687a9e25150"
      },
      "execution_count": 10,
      "outputs": [
        {
          "output_type": "display_data",
          "data": {
            "text/plain": [
              "<Figure size 1200x600 with 10 Axes>"
            ],
            "image/png": "[encoded data removed]"
          },
          "metadata": {}
        }
      ]
    }
  ],
  "metadata": {
    "kernelspec": {
      "display_name": "Python 3 (ipykernel)",
      "language": "python",
      "name": "python3"
    },
    "language_info": {
      "codemirror_mode": {
        "name": "ipython",
        "version": 3
      },
      "file_extension": ".py",
      "mimetype": "text/x-python",
      "name": "python",
      "nbconvert_exporter": "python",
      "pygments_lexer": "ipython3",
      "version": "3.9.7"
    },
    "colab": {
      "provenance": [],
      "include_colab_link": true
    },
    "widgets": {
      "application/vnd.jupyter.widget-state+json": {
        "4c5f1c16c54a42aa8bd81cd0a5ed8dd6": {
          "model_module": "@jupyter-widgets/controls",
          "model_name": "HBoxModel",
          "model_module_version": "1.5.0",
          "state": {
            "_dom_classes": [],
            "_model_module": "@jupyter-widgets/controls",
            "_model_module_version": "1.5.0",
            "_model_name": "HBoxModel",
            "_view_count": null,
            "_view_module": "@jupyter-widgets/controls",
            "_view_module_version": "1.5.0",
            "_view_name": "HBoxView",
            "box_style": "",
            "children": [
              "IPY_MODEL_18c24bcd8cde47b896ca6992edd3a817",
              "IPY_MODEL_555d4be23f6547c8901aed00fa6d997b",
              "IPY_MODEL_b69f51844a2b4a0baaf42507b3e331e5"
            ],
            "layout": "IPY_MODEL_54390b6b9e83472daf3b2ffb94fe8dec"
          }
        },
        "18c24bcd8cde47b896ca6992edd3a817": {
          "model_module": "@jupyter-widgets/controls",
          "model_name": "HTMLModel",
          "model_module_version": "1.5.0",
          "state": {
            "_dom_classes": [],
            "_model_module": "@jupyter-widgets/controls",
            "_model_module_version": "1.5.0",
            "_model_name": "HTMLModel",
            "_view_count": null,
            "_view_module": "@jupyter-widgets/controls",
            "_view_module_version": "1.5.0",
            "_view_name": "HTMLView",
            "description": "",
            "description_tooltip": null,
            "layout": "IPY_MODEL_5cfa3ff6ef144b8bb622a5357d38504e",
            "placeholder": "​",
            "style": "IPY_MODEL_74060d510b1d4e058b17f4dfdd775992",
            "value": "Precompute adv samples: 100%"
          }
        },
        "555d4be23f6547c8901aed00fa6d997b": {
          "model_module": "@jupyter-widgets/controls",
          "model_name": "FloatProgressModel",
          "model_module_version": "1.5.0",
          "state": {
            "_dom_classes": [],
            "_model_module": "@jupyter-widgets/controls",
            "_model_module_version": "1.5.0",
            "_model_name": "FloatProgressModel",
            "_view_count": null,
            "_view_module": "@jupyter-widgets/controls",
            "_view_module_version": "1.5.0",
            "_view_name": "ProgressView",
            "bar_style": "success",
            "description": "",
            "description_tooltip": null,
            "layout": "IPY_MODEL_0ea04e772b6841909c1b5a5b5148e70f",
            "max": 1,
            "min": 0,
            "orientation": "horizontal",
            "style": "IPY_MODEL_4843fc0d076a422e9796967785c4a05c",
            "value": 1
          }
        },
        "b69f51844a2b4a0baaf42507b3e331e5": {
          "model_module": "@jupyter-widgets/controls",
          "model_name": "HTMLModel",
          "model_module_version": "1.5.0",
          "state": {
            "_dom_classes": [],
            "_model_module": "@jupyter-widgets/controls",
            "_model_module_version": "1.5.0",
            "_model_name": "HTMLModel",
            "_view_count": null,
            "_view_module": "@jupyter-widgets/controls",
            "_view_module_version": "1.5.0",
            "_view_name": "HTMLView",
            "description": "",
            "description_tooltip": null,
            "layout": "IPY_MODEL_f9c03bb66ead431194d42c98fbd3f39e",
            "placeholder": "​",
            "style": "IPY_MODEL_c8b3a9548d084b4080ab7259eea675d9",
            "value": " 1/1 [00:00&lt;00:00, 41.25it/s]"
          }
        },
        "54390b6b9e83472daf3b2ffb94fe8dec": {
          "model_module": "@jupyter-widgets/base",
          "model_name": "LayoutModel",
          "model_module_version": "1.2.0",
          "state": {
            "_model_module": "@jupyter-widgets/base",
            "_model_module_version": "1.2.0",
            "_model_name": "LayoutModel",
            "_view_count": null,
            "_view_module": "@jupyter-widgets/base",
            "_view_module_version": "1.2.0",
            "_view_name": "LayoutView",
            "align_content": null,
            "align_items": null,
            "align_self": null,
            "border": null,
            "bottom": null,
            "display": null,
            "flex": null,
            "flex_flow": null,
            "grid_area": null,
            "grid_auto_columns": null,
            "grid_auto_flow": null,
            "grid_auto_rows": null,
            "grid_column": null,
            "grid_gap": null,
            "grid_row": null,
            "grid_template_areas": null,
            "grid_template_columns": null,
            "grid_template_rows": null,
            "height": null,
            "justify_content": null,
            "justify_items": null,
            "left": null,
            "margin": null,
            "max_height": null,
            "max_width": null,
            "min_height": null,
            "min_width": null,
            "object_fit": null,
            "object_position": null,
            "order": null,
            "overflow": null,
            "overflow_x": null,
            "overflow_y": null,
            "padding": null,
            "right": null,
            "top": null,
            "visibility": null,
            "width": null
          }
        },
        "5cfa3ff6ef144b8bb622a5357d38504e": {
          "model_module": "@jupyter-widgets/base",
          "model_name": "LayoutModel",
          "model_module_version": "1.2.0",
          "state": {
            "_model_module": "@jupyter-widgets/base",
            "_model_module_version": "1.2.0",
            "_model_name": "LayoutModel",
            "_view_count": null,
            "_view_module": "@jupyter-widgets/base",
            "_view_module_version": "1.2.0",
            "_view_name": "LayoutView",
            "align_content": null,
            "align_items": null,
            "align_self": null,
            "border": null,
            "bottom": null,
            "display": null,
            "flex": null,
            "flex_flow": null,
            "grid_area": null,
            "grid_auto_columns": null,
            "grid_auto_flow": null,
            "grid_auto_rows": null,
            "grid_column": null,
            "grid_gap": null,
            "grid_row": null,
            "grid_template_areas": null,
            "grid_template_columns": null,
            "grid_template_rows": null,
            "height": null,
            "justify_content": null,
            "justify_items": null,
            "left": null,
            "margin": null,
            "max_height": null,
            "max_width": null,
            "min_height": null,
            "min_width": null,
            "object_fit": null,
            "object_position": null,
            "order": null,
            "overflow": null,
            "overflow_x": null,
            "overflow_y": null,
            "padding": null,
            "right": null,
            "top": null,
            "visibility": null,
            "width": null
          }
        },
        "74060d510b1d4e058b17f4dfdd775992": {
          "model_module": "@jupyter-widgets/controls",
          "model_name": "DescriptionStyleModel",
          "model_module_version": "1.5.0",
          "state": {
            "_model_module": "@jupyter-widgets/controls",
            "_model_module_version": "1.5.0",
            "_model_name": "DescriptionStyleModel",
            "_view_count": null,
            "_view_module": "@jupyter-widgets/base",
            "_view_module_version": "1.2.0",
            "_view_name": "StyleView",
            "description_width": ""
          }
        },
        "0ea04e772b6841909c1b5a5b5148e70f": {
          "model_module": "@jupyter-widgets/base",
          "model_name": "LayoutModel",
          "model_module_version": "1.2.0",
          "state": {
            "_model_module": "@jupyter-widgets/base",
            "_model_module_version": "1.2.0",
            "_model_name": "LayoutModel",
            "_view_count": null,
            "_view_module": "@jupyter-widgets/base",
            "_view_module_version": "1.2.0",
            "_view_name": "LayoutView",
            "align_content": null,
            "align_items": null,
            "align_self": null,
            "border": null,
            "bottom": null,
            "display": null,
            "flex": null,
            "flex_flow": null,
            "grid_area": null,
            "grid_auto_columns": null,
            "grid_auto_flow": null,
            "grid_auto_rows": null,
            "grid_column": null,
            "grid_gap": null,
            "grid_row": null,
            "grid_template_areas": null,
            "grid_template_columns": null,
            "grid_template_rows": null,
            "height": null,
            "justify_content": null,
            "justify_items": null,
            "left": null,
            "margin": null,
            "max_height": null,
            "max_width": null,
            "min_height": null,
            "min_width": null,
            "object_fit": null,
            "object_position": null,
            "order": null,
            "overflow": null,
            "overflow_x": null,
            "overflow_y": null,
            "padding": null,
            "right": null,
            "top": null,
            "visibility": null,
            "width": null
          }
        },
        "4843fc0d076a422e9796967785c4a05c": {
          "model_module": "@jupyter-widgets/controls",
          "model_name": "ProgressStyleModel",
          "model_module_version": "1.5.0",
          "state": {
            "_model_module": "@jupyter-widgets/controls",
            "_model_module_version": "1.5.0",
            "_model_name": "ProgressStyleModel",
            "_view_count": null,
            "_view_module": "@jupyter-widgets/base",
            "_view_module_version": "1.2.0",
            "_view_name": "StyleView",
            "bar_color": null,
            "description_width": ""
          }
        },
        "f9c03bb66ead431194d42c98fbd3f39e": {
          "model_module": "@jupyter-widgets/base",
          "model_name": "LayoutModel",
          "model_module_version": "1.2.0",
          "state": {
            "_model_module": "@jupyter-widgets/base",
            "_model_module_version": "1.2.0",
            "_model_name": "LayoutModel",
            "_view_count": null,
            "_view_module": "@jupyter-widgets/base",
            "_view_module_version": "1.2.0",
            "_view_name": "LayoutView",
            "align_content": null,
            "align_items": null,
            "align_self": null,
            "border": null,
            "bottom": null,
            "display": null,
            "flex": null,
            "flex_flow": null,
            "grid_area": null,
            "grid_auto_columns": null,
            "grid_auto_flow": null,
            "grid_auto_rows": null,
            "grid_column": null,
            "grid_gap": null,
            "grid_row": null,
            "grid_template_areas": null,
            "grid_template_columns": null,
            "grid_template_rows": null,
            "height": null,
            "justify_content": null,
            "justify_items": null,
            "left": null,
            "margin": null,
            "max_height": null,
            "max_width": null,
            "min_height": null,
            "min_width": null,
            "object_fit": null,
            "object_position": null,
            "order": null,
            "overflow": null,
            "overflow_x": null,
            "overflow_y": null,
            "padding": null,
            "right": null,
            "top": null,
            "visibility": null,
            "width": null
          }
        },
        "c8b3a9548d084b4080ab7259eea675d9": {
          "model_module": "@jupyter-widgets/controls",
          "model_name": "DescriptionStyleModel",
          "model_module_version": "1.5.0",
          "state": {
            "_model_module": "@jupyter-widgets/controls",
            "_model_module_version": "1.5.0",
            "_model_name": "DescriptionStyleModel",
            "_view_count": null,
            "_view_module": "@jupyter-widgets/base",
            "_view_module_version": "1.2.0",
            "_view_name": "StyleView",
            "description_width": ""
          }
        },
        "4ab99913505f4d5abc76d327d7a057e8": {
          "model_module": "@jupyter-widgets/controls",
          "model_name": "HBoxModel",
          "model_module_version": "1.5.0",
          "state": {
            "_dom_classes": [],
            "_model_module": "@jupyter-widgets/controls",
            "_model_module_version": "1.5.0",
            "_model_name": "HBoxModel",
            "_view_count": null,
            "_view_module": "@jupyter-widgets/controls",
            "_view_module_version": "1.5.0",
            "_view_name": "HBoxView",
            "box_style": "",
            "children": [
              "IPY_MODEL_fcd5414b74da4f82b26fa99c47fd9b9b",
              "IPY_MODEL_ca852e06087e43eb9abd0398547dbcdb",
              "IPY_MODEL_fd59e5cf770f4c7e8ed6a9f8309b261a"
            ],
            "layout": "IPY_MODEL_8840b896f5544e06a4b13a5e94787c88"
          }
        },
        "fcd5414b74da4f82b26fa99c47fd9b9b": {
          "model_module": "@jupyter-widgets/controls",
          "model_name": "HTMLModel",
          "model_module_version": "1.5.0",
          "state": {
            "_dom_classes": [],
            "_model_module": "@jupyter-widgets/controls",
            "_model_module_version": "1.5.0",
            "_model_name": "HTMLModel",
            "_view_count": null,
            "_view_module": "@jupyter-widgets/controls",
            "_view_module_version": "1.5.0",
            "_view_name": "HTMLView",
            "description": "",
            "description_tooltip": null,
            "layout": "IPY_MODEL_91ce8f4a5cc54209b6f76ae785b2c67b",
            "placeholder": "​",
            "style": "IPY_MODEL_a38b324135aa49f5a896fdd0e15f9a62",
            "value": "Adversarial training epochs: 100%"
          }
        },
        "ca852e06087e43eb9abd0398547dbcdb": {
          "model_module": "@jupyter-widgets/controls",
          "model_name": "FloatProgressModel",
          "model_module_version": "1.5.0",
          "state": {
            "_dom_classes": [],
            "_model_module": "@jupyter-widgets/controls",
            "_model_module_version": "1.5.0",
            "_model_name": "FloatProgressModel",
            "_view_count": null,
            "_view_module": "@jupyter-widgets/controls",
            "_view_module_version": "1.5.0",
            "_view_name": "ProgressView",
            "bar_style": "success",
            "description": "",
            "description_tooltip": null,
            "layout": "IPY_MODEL_3afe51c6317c471b82fd3ba423d3e0d7",
            "max": 3,
            "min": 0,
            "orientation": "horizontal",
            "style": "IPY_MODEL_087c9ca7515a4df197d12bd25016bb56",
            "value": 3
          }
        },
        "fd59e5cf770f4c7e8ed6a9f8309b261a": {
          "model_module": "@jupyter-widgets/controls",
          "model_name": "HTMLModel",
          "model_module_version": "1.5.0",
          "state": {
            "_dom_classes": [],
            "_model_module": "@jupyter-widgets/controls",
            "_model_module_version": "1.5.0",
            "_model_name": "HTMLModel",
            "_view_count": null,
            "_view_module": "@jupyter-widgets/controls",
            "_view_module_version": "1.5.0",
            "_view_name": "HTMLView",
            "description": "",
            "description_tooltip": null,
            "layout": "IPY_MODEL_75c7608b9e744ed2b8af6421cefa2c96",
            "placeholder": "​",
            "style": "IPY_MODEL_ad563c93bdc8498380670598c8168176",
            "value": " 3/3 [00:25&lt;00:00,  8.43s/it]"
          }
        },
        "8840b896f5544e06a4b13a5e94787c88": {
          "model_module": "@jupyter-widgets/base",
          "model_name": "LayoutModel",
          "model_module_version": "1.2.0",
          "state": {
            "_model_module": "@jupyter-widgets/base",
            "_model_module_version": "1.2.0",
            "_model_name": "LayoutModel",
            "_view_count": null,
            "_view_module": "@jupyter-widgets/base",
            "_view_module_version": "1.2.0",
            "_view_name": "LayoutView",
            "align_content": null,
            "align_items": null,
            "align_self": null,
            "border": null,
            "bottom": null,
            "display": null,
            "flex": null,
            "flex_flow": null,
            "grid_area": null,
            "grid_auto_columns": null,
            "grid_auto_flow": null,
            "grid_auto_rows": null,
            "grid_column": null,
            "grid_gap": null,
            "grid_row": null,
            "grid_template_areas": null,
            "grid_template_columns": null,
            "grid_template_rows": null,
            "height": null,
            "justify_content": null,
            "justify_items": null,
            "left": null,
            "margin": null,
            "max_height": null,
            "max_width": null,
            "min_height": null,
            "min_width": null,
            "object_fit": null,
            "object_position": null,
            "order": null,
            "overflow": null,
            "overflow_x": null,
            "overflow_y": null,
            "padding": null,
            "right": null,
            "top": null,
            "visibility": null,
            "width": null
          }
        },
        "91ce8f4a5cc54209b6f76ae785b2c67b": {
          "model_module": "@jupyter-widgets/base",
          "model_name": "LayoutModel",
          "model_module_version": "1.2.0",
          "state": {
            "_model_module": "@jupyter-widgets/base",
            "_model_module_version": "1.2.0",
            "_model_name": "LayoutModel",
            "_view_count": null,
            "_view_module": "@jupyter-widgets/base",
            "_view_module_version": "1.2.0",
            "_view_name": "LayoutView",
            "align_content": null,
            "align_items": null,
            "align_self": null,
            "border": null,
            "bottom": null,
            "display": null,
            "flex": null,
            "flex_flow": null,
            "grid_area": null,
            "grid_auto_columns": null,
            "grid_auto_flow": null,
            "grid_auto_rows": null,
            "grid_column": null,
            "grid_gap": null,
            "grid_row": null,
            "grid_template_areas": null,
            "grid_template_columns": null,
            "grid_template_rows": null,
            "height": null,
            "justify_content": null,
            "justify_items": null,
            "left": null,
            "margin": null,
            "max_height": null,
            "max_width": null,
            "min_height": null,
            "min_width": null,
            "object_fit": null,
            "object_position": null,
            "order": null,
            "overflow": null,
            "overflow_x": null,
            "overflow_y": null,
            "padding": null,
            "right": null,
            "top": null,
            "visibility": null,
            "width": null
          }
        },
        "a38b324135aa49f5a896fdd0e15f9a62": {
          "model_module": "@jupyter-widgets/controls",
          "model_name": "DescriptionStyleModel",
          "model_module_version": "1.5.0",
          "state": {
            "_model_module": "@jupyter-widgets/controls",
            "_model_module_version": "1.5.0",
            "_model_name": "DescriptionStyleModel",
            "_view_count": null,
            "_view_module": "@jupyter-widgets/base",
            "_view_module_version": "1.2.0",
            "_view_name": "StyleView",
            "description_width": ""
          }
        },
        "3afe51c6317c471b82fd3ba423d3e0d7": {
          "model_module": "@jupyter-widgets/base",
          "model_name": "LayoutModel",
          "model_module_version": "1.2.0",
          "state": {
            "_model_module": "@jupyter-widgets/base",
            "_model_module_version": "1.2.0",
            "_model_name": "LayoutModel",
            "_view_count": null,
            "_view_module": "@jupyter-widgets/base",
            "_view_module_version": "1.2.0",
            "_view_name": "LayoutView",
            "align_content": null,
            "align_items": null,
            "align_self": null,
            "border": null,
            "bottom": null,
            "display": null,
            "flex": null,
            "flex_flow": null,
            "grid_area": null,
            "grid_auto_columns": null,
            "grid_auto_flow": null,
            "grid_auto_rows": null,
            "grid_column": null,
            "grid_gap": null,
            "grid_row": null,
            "grid_template_areas": null,
            "grid_template_columns": null,
            "grid_template_rows": null,
            "height": null,
            "justify_content": null,
            "justify_items": null,
            "left": null,
            "margin": null,
            "max_height": null,
            "max_width": null,
            "min_height": null,
            "min_width": null,
            "object_fit": null,
            "object_position": null,
            "order": null,
            "overflow": null,
            "overflow_x": null,
            "overflow_y": null,
            "padding": null,
            "right": null,
            "top": null,
            "visibility": null,
            "width": null
          }
        },
        "087c9ca7515a4df197d12bd25016bb56": {
          "model_module": "@jupyter-widgets/controls",
          "model_name": "ProgressStyleModel",
          "model_module_version": "1.5.0",
          "state": {
            "_model_module": "@jupyter-widgets/controls",
            "_model_module_version": "1.5.0",
            "_model_name": "ProgressStyleModel",
            "_view_count": null,
            "_view_module": "@jupyter-widgets/base",
            "_view_module_version": "1.2.0",
            "_view_name": "StyleView",
            "bar_color": null,
            "description_width": ""
          }
        },
        "75c7608b9e744ed2b8af6421cefa2c96": {
          "model_module": "@jupyter-widgets/base",
          "model_name": "LayoutModel",
          "model_module_version": "1.2.0",
          "state": {
            "_model_module": "@jupyter-widgets/base",
            "_model_module_version": "1.2.0",
            "_model_name": "LayoutModel",
            "_view_count": null,
            "_view_module": "@jupyter-widgets/base",
            "_view_module_version": "1.2.0",
            "_view_name": "LayoutView",
            "align_content": null,
            "align_items": null,
            "align_self": null,
            "border": null,
            "bottom": null,
            "display": null,
            "flex": null,
            "flex_flow": null,
            "grid_area": null,
            "grid_auto_columns": null,
            "grid_auto_flow": null,
            "grid_auto_rows": null,
            "grid_column": null,
            "grid_gap": null,
            "grid_row": null,
            "grid_template_areas": null,
            "grid_template_columns": null,
            "grid_template_rows": null,
            "height": null,
            "justify_content": null,
            "justify_items": null,
            "left": null,
            "margin": null,
            "max_height": null,
            "max_width": null,
            "min_height": null,
            "min_width": null,
            "object_fit": null,
            "object_position": null,
            "order": null,
            "overflow": null,
            "overflow_x": null,
            "overflow_y": null,
            "padding": null,
            "right": null,
            "top": null,
            "visibility": null,
            "width": null
          }
        },
        "ad563c93bdc8498380670598c8168176": {
          "model_module": "@jupyter-widgets/controls",
          "model_name": "DescriptionStyleModel",
          "model_module_version": "1.5.0",
          "state": {
            "_model_module": "@jupyter-widgets/controls",
            "_model_module_version": "1.5.0",
            "_model_name": "DescriptionStyleModel",
            "_view_count": null,
            "_view_module": "@jupyter-widgets/base",
            "_view_module_version": "1.2.0",
            "_view_name": "StyleView",
            "description_width": ""
          }
        }
      }
    }
  },
  "nbformat": 4,
  "nbformat_minor": 0
}